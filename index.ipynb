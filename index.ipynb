{
 "cells": [
  {
   "cell_type": "markdown",
   "metadata": {},
   "source": [
    "#pysaliency\n",
    "\n",
    "pysaliency is a python library for saliency modeling and model evaluation. It is released together with the paper [Information-theoretic model comparison unifies saliency metrics](http://dx.doi.org/10.1073/pnas.1510393112) and can be used to reproduce the results of the paper and to employ the methods described in the paper on your own models. Specifically, it can be used to formulate probabilistic saliency models and to evaluate them using *information gain*."
   ]
  },
  {
   "cell_type": "markdown",
   "metadata": {},
   "source": [
    "This repository contains several example notebooks that demonstrate the features in pysaliency.\n",
    "\n",
    "* [TODO Demo Datasets]()\n",
    "* [Demo_Saliency_Maps](notebooks/Demo_Saliency_Maps.ipynb)\n",
    "* [TODO Probablistic Models]()\n",
    "* [Information Gain](notebooks/Information_Gain.ipynb)\n",
    "* [TODO Baseline and Gold Standard Models]()"
   ]
  },
  {
   "cell_type": "code",
   "execution_count": null,
   "metadata": {
    "collapsed": true
   },
   "outputs": [],
   "source": []
  }
 ],
 "metadata": {
  "kernelspec": {
   "display_name": "IPython (Python 2)",
   "name": "python2"
  },
  "language_info": {
   "codemirror_mode": {
    "name": "ipython",
    "version": 2
   },
   "file_extension": ".py",
   "mimetype": "text/x-python",
   "name": "python",
   "nbconvert_exporter": "python",
   "pygments_lexer": "ipython2",
   "version": "2.7.6"
  },
  "signature": "sha256:7d3a4610b72adbbd98c5fb4b83ec3ddeffaac8b8de7c863b4a645cefa3b0d56a"
 },
 "nbformat": 4,
 "nbformat_minor": 0
}